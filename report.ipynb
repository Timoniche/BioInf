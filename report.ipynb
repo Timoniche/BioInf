{
 "cells": [
  {
   "cell_type": "markdown",
   "source": [
    "## Part 1\n",
    "\n",
    "*Условие:\n",
    "происходят рандомные перестановки P.\n",
    "Когда оптимальное количество свопов начинает различаться с |P|?*"
   ],
   "metadata": {
    "collapsed": false
   }
  },
  {
   "cell_type": "markdown",
   "source": [
    "Ниже приведен код, которые считает d - минимальное количество swap,\n",
    "чтобы вернуться в сортированное состояние"
   ],
   "metadata": {
    "collapsed": false,
    "pycharm": {
     "name": "#%% md\n"
    }
   }
  },
  {
   "cell_type": "code",
   "execution_count": 4,
   "outputs": [
    {
     "name": "stdout",
     "output_type": "stream",
     "text": [
      "4\n"
     ]
    }
   ],
   "source": [
    "def in_its_place(elem_indexed, i):\n",
    "    return elem_indexed == i\n",
    "\n",
    "def d_min_swap(permut):\n",
    "    sz = len(permut)\n",
    "    indexed_permut = [*enumerate(permut)]\n",
    "    indexed_permut = sorted(indexed_permut, key=lambda e: e[1])\n",
    "    visited = {b: False for b in range(sz)}\n",
    "    ret = 0\n",
    "    for i in range(sz):\n",
    "        if in_its_place(indexed_permut[i][0], i) or visited[i]:\n",
    "            continue\n",
    "        cycle_len = 0\n",
    "        traverse = i\n",
    "        while not visited[traverse]:\n",
    "            visited[traverse] = True\n",
    "            traverse = indexed_permut[traverse][0]\n",
    "            cycle_len += 1\n",
    "        if cycle_len > 0:\n",
    "            ret += cycle_len - 1\n",
    "    return ret\n",
    "\n",
    "print(d_min_swap([2, 4, 1, 5, 3]))"
   ],
   "metadata": {
    "collapsed": false,
    "pycharm": {
     "name": "#%%\n"
    }
   }
  },
  {
   "cell_type": "markdown",
   "source": [
    "В качестве оценки беспорядка выступает инвариант количества циклов.\n",
    "В сортированном массиве длины n будет n циклов\n",
    "\n",
    "<img src=\"pictures/permut1.jpg\">\n",
    "<img src=\"pictures/permut2.jpg\">"
   ],
   "metadata": {
    "collapsed": false
   }
  },
  {
   "cell_type": "markdown",
   "source": [
    "При помощи алгоритма был получен график, где:\n",
    "\n",
    "**синий**: y = x, т.е было x рандомных свапов и точно хватит столько (оценка сверху), чтобы вернуться\n",
    "\n",
    "**красный**: f(x), пока не вывел теоретически зависимость, возможно стоит пологарифмировать данные\n",
    "\n",
    "**зеленый**: дельта между верхней оценкой (синий) и идеальным решением (красный)\n",
    "\n",
    "**черный**: количество циклов, инвариант\n",
    "\n",
    "<img src=\"plots/part1_all\">\n"
   ],
   "metadata": {
    "collapsed": false
   }
  },
  {
   "cell_type": "markdown",
   "source": [
    "## Part 2\n",
    "\n",
    "*Условие: изучить Cooler API на примере\n",
    "ftp://cooler.csail.mit.edu/coolers/hg19/Rao2014-IMR90-MboI-allreps-filtered.500kb.cool*"
   ],
   "metadata": {
    "collapsed": false,
    "pycharm": {
     "name": "#%% md\n"
    }
   }
  },
  {
   "cell_type": "markdown",
   "source": [
    "Для удобства выведем полезную информацию"
   ],
   "metadata": {
    "collapsed": false,
    "pycharm": {
     "name": "#%% md\n"
    }
   }
  },
  {
   "cell_type": "code",
   "execution_count": null,
   "outputs": [],
   "source": [
    "import cooler\n",
    "import math"
   ],
   "metadata": {
    "collapsed": false,
    "pycharm": {
     "name": "#%%\n"
    }
   }
  },
  {
   "cell_type": "code",
   "execution_count": null,
   "outputs": [],
   "source": [
    "def helper(filepath):\n",
    "    c = cooler.Cooler(filepath)\n",
    "    print(f'c.info\\n{c.info}\\n')\n",
    "    bin_size = 500000 # from c.info\n",
    "    print(f'c.chromsizes\\n{c.chromsizes}\\n')\n",
    "    count_bins_chr1 = math.ceil(c.chromsizes[0] / bin_size)\n",
    "    print(f'bins in chr1:\\n{count_bins_chr1}\\n')\n",
    "\n",
    "helper(filepath='data/Rao2014-IMR90-MboI-allreps-filtered.500kb.cool')"
   ],
   "metadata": {
    "collapsed": false,
    "pycharm": {
     "name": "#%%\n"
    }
   }
  },
  {
   "cell_type": "markdown",
   "source": [
    "Отдельно выводим информацию по chr1, так как в дальнейшем будем работать именно с ней.\n",
    "Также интересно посмотреть на hi-c распределение"
   ],
   "metadata": {
    "collapsed": false
   }
  },
  {
   "cell_type": "code",
   "execution_count": null,
   "outputs": [],
   "source": [
    "import matplotlib.pyplot as plt\n",
    "import numpy as np"
   ],
   "metadata": {
    "collapsed": false,
    "pycharm": {
     "name": "#%%\n"
    }
   }
  },
  {
   "cell_type": "code",
   "execution_count": null,
   "outputs": [],
   "source": [
    "def heatmap_hic(filepath):\n",
    "    c = cooler.Cooler(filepath)\n",
    "    bin_size = 500000\n",
    "    count_bins_chr1 = math.ceil(c.chromsizes[0] / bin_size)\n",
    "    contact_matrix = np.array(c.matrix(balance=False)[:count_bins_chr1, :count_bins_chr1])\n",
    "    plt.title('hic')\n",
    "    plt.imshow(contact_matrix, cmap='hot', interpolation='nearest')\n",
    "    plt.show()\n",
    "\n",
    "heatmap_hic(filepath='data/Rao2014-IMR90-MboI-allreps-filtered.500kb.cool')"
   ],
   "metadata": {
    "collapsed": false,
    "pycharm": {
     "name": "#%%\n"
    }
   }
  },
  {
   "cell_type": "markdown",
   "source": [
    "График получился не очень наглядным, потому что порядок k близких к главной диагонали в разы превышает все остальные случаи\n",
    "\n",
    "**N.B:** здесь и в дальнейшем под k подразумевается расстояние в бинах между i и i + k (в линейном представлении) участками"
   ],
   "metadata": {
    "collapsed": false
   }
  },
  {
   "cell_type": "markdown",
   "source": [
    "Для задачи 3 потребуется добыть из chr1 зависимости:\n",
    "\n",
    "**E(k):** матожидание количества попавших в каплю участков на расстоянии k\n",
    "\n",
    "* **N.B:** так как матрица очевидно симметричная (расстояние для [i][j] и [j][i] участков одинаковое), то будем рассматривать\n",
    "только все пары (i, i + k) над главной диагональю\n",
    "\n",
    "**D(k), SIGMA(k):** аналогичным образом извлекаются из верхней диагонали матрицы\n",
    "\n",
    "**Гистограмма**: понадобится при построении hi-c в части 3, чтобы не брать только E(k)\n"
   ],
   "metadata": {
    "collapsed": false,
    "pycharm": {
     "name": "#%% md\n"
    }
   }
  },
  {
   "cell_type": "markdown",
   "source": [
    "Итак, приступим к получению нужных параметров!!\n",
    "\n",
    "* код для построения графиков опущу, можно посмотреть здесь:\n",
    "https://github.com/Timoniche/BioInf/blob/main/main_cool_part2.py\n",
    "\n",
    "**E(k)**\n",
    "<img src=\"plots/chr1_EX_k_1_10\">\n",
    "\n",
    "можно заметить, что после k > 2 происходит резкий спад порядки,\n",
    "тогда в дальнейшем при построении графиков k = 1..10 можно будет опускать (или логарифмировать и смотреть за порядком)\n",
    "\n",
    "<img src=\"plots/chr1_EX_k_10_25\">\n",
    "\n",
    "**D(k)**\n",
    "<img src=\"plots/chr1_DX_k_1_10\">\n",
    "<img src=\"plots/chr1_DX_k_10_25\">\n",
    "\n",
    "**SIGMA(k)**\n",
    "<img src=\"plots/chr1_SIGMA_k_1_10\">\n",
    "<img src=\"plots/chr1_SIGMA_k_10_25\">\n",
    "\n",
    "**Гистограмма**"
   ],
   "metadata": {
    "collapsed": false
   }
  },
  {
   "cell_type": "code",
   "execution_count": null,
   "outputs": [],
   "source": [
    "from matplotlib import pyplot as plt"
   ],
   "metadata": {
    "collapsed": false,
    "pycharm": {
     "name": "#%%\n"
    }
   }
  },
  {
   "cell_type": "code",
   "execution_count": null,
   "outputs": [],
   "source": [
    "def get_upper_k_diagonal(mat, k):\n",
    "    n = len(mat)\n",
    "    ret = []\n",
    "    i = 0\n",
    "    for j in range(k, n):\n",
    "        ret.append(mat[i][j])\n",
    "        i += 1\n",
    "        j += 1\n",
    "    return ret\n",
    "\n",
    "def histogramm(filepath, k=11):\n",
    "    c = cooler.Cooler(filepath)\n",
    "    bin_size = 500000\n",
    "    count_bins_chr1 = math.ceil(c.chromsizes[0] / bin_size)\n",
    "    contact_matrix = c.matrix(balance=False)[:count_bins_chr1, :count_bins_chr1]\n",
    "    diag = get_upper_k_diagonal(contact_matrix, k)\n",
    "    hist = np.histogram(np.array(diag))\n",
    "    plt.hist(hist)\n",
    "\n",
    "\n",
    "histogramm(filepath='data/Rao2014-IMR90-MboI-allreps-filtered.500kb.cool')\n",
    "\n"
   ],
   "metadata": {
    "collapsed": false,
    "pycharm": {
     "name": "#%%\n"
    }
   }
  }
 ],
 "metadata": {
  "kernelspec": {
   "display_name": "Python 3",
   "language": "python",
   "name": "python3"
  },
  "language_info": {
   "codemirror_mode": {
    "name": "ipython",
    "version": 2
   },
   "file_extension": ".py",
   "mimetype": "text/x-python",
   "name": "python",
   "nbconvert_exporter": "python",
   "pygments_lexer": "ipython2",
   "version": "2.7.6"
  }
 },
 "nbformat": 4,
 "nbformat_minor": 0
}