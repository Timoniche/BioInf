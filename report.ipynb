{
 "cells": [
  {
   "cell_type": "markdown",
   "source": [
    "## Part 1\n",
    "\n",
    "*Условие:\n",
    "происходят рандомные перестановки P.\n",
    "Когда оптимальное количество свопов начинает различаться с |P|?*"
   ],
   "metadata": {
    "collapsed": false
   }
  },
  {
   "cell_type": "markdown",
   "source": [
    "Ниже приведен код, которые считает d - минимальное количество swap,\n",
    "чтобы вернуться в сортированное состояние"
   ],
   "metadata": {
    "collapsed": false,
    "pycharm": {
     "name": "#%% md\n"
    }
   }
  },
  {
   "cell_type": "code",
   "execution_count": 3,
   "outputs": [
    {
     "name": "stdout",
     "output_type": "stream",
     "text": [
      "4\n"
     ]
    }
   ],
   "source": [
    "def in_its_place(elem_indexed, i):\n",
    "    return elem_indexed == i\n",
    "\n",
    "def d_min_swap(permut):\n",
    "    sz = len(permut)\n",
    "    indexed_permut = [*enumerate(permut)]\n",
    "    indexed_permut = sorted(indexed_permut, key=lambda e: e[1])\n",
    "    visited = {b: False for b in range(sz)}\n",
    "    ret = 0\n",
    "    for i in range(sz):\n",
    "        if in_its_place(indexed_permut[i][0], i) or visited[i]:\n",
    "            continue\n",
    "        cycle_len = 0\n",
    "        traverse = i\n",
    "        while not visited[traverse]:\n",
    "            visited[traverse] = True\n",
    "            traverse = indexed_permut[traverse][0]\n",
    "            cycle_len += 1\n",
    "        if cycle_len > 0:\n",
    "            ret += cycle_len - 1\n",
    "    return ret\n",
    "\n",
    "print(d_min_swap([2, 4, 1, 5, 3]))"
   ],
   "metadata": {
    "collapsed": false,
    "pycharm": {
     "name": "#%%\n"
    }
   }
  },
  {
   "cell_type": "markdown",
   "source": [
    "В качестве оценки беспорядка выступает инвариант количества циклов.\n",
    "В сортированном массиве длины n будет n циклов\n",
    "\n",
    "<img src=\"pictures/permut1.jpg\">\n",
    "<img src=\"pictures/permut2.jpg\">"
   ],
   "metadata": {
    "collapsed": false
   }
  },
  {
   "cell_type": "markdown",
   "source": [
    "На основе алгоритма был\n"
   ],
   "metadata": {
    "collapsed": false
   }
  }
 ],
 "metadata": {
  "kernelspec": {
   "display_name": "Python 3",
   "language": "python",
   "name": "python3"
  },
  "language_info": {
   "codemirror_mode": {
    "name": "ipython",
    "version": 2
   },
   "file_extension": ".py",
   "mimetype": "text/x-python",
   "name": "python",
   "nbconvert_exporter": "python",
   "pygments_lexer": "ipython2",
   "version": "2.7.6"
  }
 },
 "nbformat": 4,
 "nbformat_minor": 0
}