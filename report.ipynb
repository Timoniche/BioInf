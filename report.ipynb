{
 "cells": [
  {
   "cell_type": "markdown",
   "source": [
    "## Part 1\n",
    "\n",
    "*Условие:\n",
    "происходят рандомные перестановки P.\n",
    "Когда оптимальное количество свопов начинает различаться с |P|?*"
   ],
   "metadata": {
    "collapsed": false
   }
  },
  {
   "cell_type": "markdown",
   "source": [
    "Ниже приведен код, которые считает d - минимальное количество swap,\n",
    "чтобы вернуться в сортированное состояние"
   ],
   "metadata": {
    "collapsed": false,
    "pycharm": {
     "name": "#%% md\n"
    }
   }
  },
  {
   "cell_type": "code",
   "execution_count": 134,
   "outputs": [
    {
     "name": "stdout",
     "output_type": "stream",
     "text": [
      "4\n"
     ]
    }
   ],
   "source": [
    "def in_its_place(elem_indexed, i):\n",
    "    return elem_indexed == i\n",
    "\n",
    "def d_min_swap(permut):\n",
    "    sz = len(permut)\n",
    "    indexed_permut = [*enumerate(permut)]\n",
    "    indexed_permut = sorted(indexed_permut, key=lambda e: e[1])\n",
    "    visited = {b: False for b in range(sz)}\n",
    "    ret = 0\n",
    "    for i in range(sz):\n",
    "        if in_its_place(indexed_permut[i][0], i) or visited[i]:\n",
    "            continue\n",
    "        cycle_len = 0\n",
    "        traverse = i\n",
    "        while not visited[traverse]:\n",
    "            visited[traverse] = True\n",
    "            traverse = indexed_permut[traverse][0]\n",
    "            cycle_len += 1\n",
    "        if cycle_len > 0:\n",
    "            ret += cycle_len - 1\n",
    "    return ret\n",
    "\n",
    "print(d_min_swap([2, 4, 1, 5, 3]))"
   ],
   "metadata": {
    "collapsed": false,
    "pycharm": {
     "name": "#%%\n"
    }
   }
  },
  {
   "cell_type": "markdown",
   "source": [
    "В качестве оценки беспорядка выступает инвариант количества циклов.\n",
    "В сортированном массиве длины n будет n циклов\n",
    "\n",
    "<img src=\"pictures/permut1.jpg\">\n",
    "<img src=\"pictures/permut2.jpg\">"
   ],
   "metadata": {
    "collapsed": false
   }
  },
  {
   "cell_type": "markdown",
   "source": [
    "При помощи алгоритма был получен график, где:\n",
    "\n",
    "**синий**: y = x, т.е было x рандомных свапов и точно хватит столько (оценка сверху), чтобы вернуться\n",
    "\n",
    "**красный**: f(x), пока не вывел теоретически зависимость, возможно стоит пологарифмировать данные\n",
    "\n",
    "**зеленый**: дельта между верхней оценкой (синий) и идеальным решением (красный)\n",
    "\n",
    "**черный**: количество циклов, инвариант\n",
    "\n",
    "<img src=\"plots/part1_all\">\n"
   ],
   "metadata": {
    "collapsed": false
   }
  },
  {
   "cell_type": "markdown",
   "source": [
    "## Part 2\n",
    "\n",
    "*Условие: изучить Cooler API на примере\n",
    "ftp://cooler.csail.mit.edu/coolers/hg19/Rao2014-IMR90-MboI-allreps-filtered.500kb.cool*"
   ],
   "metadata": {
    "collapsed": false,
    "pycharm": {
     "name": "#%% md\n"
    }
   }
  },
  {
   "cell_type": "markdown",
   "source": [
    "Для удобства выведем полезную информацию"
   ],
   "metadata": {
    "collapsed": false,
    "pycharm": {
     "name": "#%% md\n"
    }
   }
  },
  {
   "cell_type": "code",
   "execution_count": 135,
   "outputs": [],
   "source": [
    "import cooler"
   ],
   "metadata": {
    "collapsed": false,
    "pycharm": {
     "name": "#%%\n"
    }
   }
  },
  {
   "cell_type": "code",
   "execution_count": 136,
   "outputs": [
    {
     "name": "stdout",
     "output_type": "stream",
     "text": [
      "c.info\n",
      "{'bin-size': 500000, 'bin-type': 'fixed', 'creation-date': '2016-02-26T18:52:32.545837', 'format-url': 'https://github.com/mirnylab/cooler', 'format-version': 2, 'genome-assembly': 'hg19', 'id': None, 'library-version': '0.3.0', 'metadata': {'species': 'Homo sapiens', 'cell-type': 'IMR90', 'enzyme': 'MboI', 'publication': '', 'QC': {'post-filtering': {'cis': 622282054, 'trans': 135111529, 'total': 757393583}, 'double-sided': {'valid': 810549889, 'filtered-valid': {'removed-outlier-fragment': 29935716, 'removed-duplicate': 23045499, 'removed-large-small-pair': 175091, 'removed-start-near-rsite': ''}, 'filtered-invalid': {'removed-self-circles': 960997, 'removed-error-pair': 456744, 'removed-dangling-ends': 35742761}, 'total': 847710391}, 'pre-filtering': {'single-sided': 541135879, 'double-sided': 847710391, 'unused': 0, 'total': 1388846270}}, 'sex': 'F'}, 'nbins': 6207, 'nchroms': 25, 'nnz': 15902029}\n",
      "\n",
      "c.chromsizes\n",
      "name\n",
      "chr1     249250621\n",
      "chr2     243199373\n",
      "chr3     198022430\n",
      "chr4     191154276\n",
      "chr5     180915260\n",
      "chr6     171115067\n",
      "chr7     159138663\n",
      "chr8     146364022\n",
      "chr9     141213431\n",
      "chr10    135534747\n",
      "chr11    135006516\n",
      "chr12    133851895\n",
      "chr13    115169878\n",
      "chr14    107349540\n",
      "chr15    102531392\n",
      "chr16     90354753\n",
      "chr17     81195210\n",
      "chr18     78077248\n",
      "chr19     59128983\n",
      "chr20     63025520\n",
      "chr21     48129895\n",
      "chr22     51304566\n",
      "chrX     155270560\n",
      "chrY      59373566\n",
      "chrM         16571\n",
      "Name: length, dtype: int64\n",
      "\n",
      "bins in chr1:\n",
      "499\n",
      "\n"
     ]
    }
   ],
   "source": [
    "def helper(filepath):\n",
    "    c = cooler.Cooler(filepath)\n",
    "    print(f'c.info\\n{c.info}\\n')\n",
    "    bin_size = 500000 # from c.info\n",
    "    print(f'c.chromsizes\\n{c.chromsizes}\\n')\n",
    "    count_bins_chr1 = math.ceil(c.chromsizes[0] / bin_size)\n",
    "    print(f'bins in chr1:\\n{count_bins_chr1}\\n')\n",
    "\n",
    "helper(filepath='data/Rao2014-IMR90-MboI-allreps-filtered.500kb.cool')"
   ],
   "metadata": {
    "collapsed": false,
    "pycharm": {
     "name": "#%%\n"
    }
   }
  },
  {
   "cell_type": "markdown",
   "source": [
    "Отдельно выводим информацию по chr1, так как в дальнейшем будем работать именно с ней.\n",
    "Также интересно посмотреть на hi-c распределение"
   ],
   "metadata": {
    "collapsed": false
   }
  },
  {
   "cell_type": "code",
   "execution_count": 137,
   "outputs": [],
   "source": [
    "import numpy as np"
   ],
   "metadata": {
    "collapsed": false,
    "pycharm": {
     "name": "#%%\n"
    }
   }
  },
  {
   "cell_type": "code",
   "execution_count": 138,
   "outputs": [
    {
     "data": {
      "text/plain": "<Figure size 432x288 with 1 Axes>",
      "image/png": "[encoded data removed]"
     },
     "metadata": {
      "needs_background": "light"
     },
     "output_type": "display_data"
    }
   ],
   "source": [
    "def heatmap_hic(filepath):\n",
    "    c = cooler.Cooler(filepath)\n",
    "    bin_size = 500000\n",
    "    count_bins_chr1 = math.ceil(c.chromsizes[0] / bin_size)\n",
    "    contact_matrix = np.array(c.matrix(balance=False)[:count_bins_chr1, :count_bins_chr1])\n",
    "    plt.title('hic')\n",
    "    plt.imshow(contact_matrix, cmap='hot', interpolation='nearest')\n",
    "    plt.show()\n",
    "\n",
    "heatmap_hic(filepath='data/Rao2014-IMR90-MboI-allreps-filtered.500kb.cool')"
   ],
   "metadata": {
    "collapsed": false,
    "pycharm": {
     "name": "#%%\n"
    }
   }
  },
  {
   "cell_type": "markdown",
   "source": [
    "График получился не очень наглядным, потому что порядок k близких к главной диагонали в разы превышает все остальные случаи\n",
    "\n",
    "**N.B:** здесь и в дальнейшем под k подразумевается расстояние в бинах между i и i + k (в линейном представлении) участками"
   ],
   "metadata": {
    "collapsed": false
   }
  },
  {
   "cell_type": "markdown",
   "source": [
    "Для задачи 3 потребуется добыть из chr1 зависимости:\n",
    "\n",
    "**E(k):** матожидание количества попавших в каплю участков на расстоянии k\n",
    "\n",
    "* **N.B:** так как матрица очевидно симметричная (расстояние для [i][j] и [j][i] участков одинаковое), то будем рассматривать\n",
    "только все пары (i, i + k) над главной диагональю\n",
    "\n",
    "**D(k), SIGMA(k):** аналогичным образом извлекаются из верхней диагонали матрицы\n",
    "\n",
    "**Гистограмма**: понадобится при построении hi-c в части 3, чтобы не брать только E(k)\n"
   ],
   "metadata": {
    "collapsed": false,
    "pycharm": {
     "name": "#%% md\n"
    }
   }
  },
  {
   "cell_type": "markdown",
   "source": [
    "Итак, приступим к получению нужных параметров!!\n",
    "\n",
    "* код для построения графиков опущу, можно посмотреть здесь:\n",
    "https://github.com/Timoniche/BioInf/blob/main/main_cool_part2.py\n",
    "\n",
    "**E(k)**\n",
    "<img src=\"plots/chr1_EX_k_1_10\">\n",
    "\n",
    "можно заметить, что после k > 2 происходит резкий спад порядки,\n",
    "тогда в дальнейшем при построении графиков k = 1..10 можно будет опускать (или логарифмировать и смотреть за порядком)\n",
    "\n",
    "<img src=\"plots/chr1_EX_k_10_25\">\n",
    "\n",
    "**D(k)**\n",
    "<img src=\"plots/chr1_DX_k_1_10\">\n",
    "<img src=\"plots/chr1_DX_k_10_25\">\n",
    "\n",
    "**SIGMA(k)**\n",
    "<img src=\"plots/chr1_SIGMA_k_1_10\">\n",
    "<img src=\"plots/chr1_SIGMA_k_10_25\">\n",
    "\n",
    "**Гистограмма**"
   ],
   "metadata": {
    "collapsed": false
   }
  },
  {
   "cell_type": "code",
   "execution_count": 139,
   "outputs": [],
   "source": [
    "from matplotlib import pyplot as plt"
   ],
   "metadata": {
    "collapsed": false,
    "pycharm": {
     "name": "#%%\n"
    }
   }
  },
  {
   "cell_type": "code",
   "execution_count": 140,
   "outputs": [
    {
     "data": {
      "text/plain": "<Figure size 432x288 with 1 Axes>",
      "image/png": "[encoded data removed]"
     },
     "metadata": {
      "needs_background": "light"
     },
     "output_type": "display_data"
    }
   ],
   "source": [
    "def get_upper_k_diagonal(mat, k):\n",
    "    n = len(mat)\n",
    "    ret = []\n",
    "    i = 0\n",
    "    for j in range(k, n):\n",
    "        ret.append(mat[i][j])\n",
    "        i += 1\n",
    "        j += 1\n",
    "    return ret\n",
    "\n",
    "def histogramm(filepath, k=11):\n",
    "    c = cooler.Cooler(filepath)\n",
    "    bin_size = 500000\n",
    "    count_bins_chr1 = math.ceil(c.chromsizes[0] / bin_size)\n",
    "    contact_matrix = c.matrix(balance=False)[:count_bins_chr1, :count_bins_chr1]\n",
    "    diag = get_upper_k_diagonal(contact_matrix, k)\n",
    "    hist = np.histogram(np.array(diag))\n",
    "    plt.hist(hist)\n",
    "\n",
    "\n",
    "histogramm(filepath='data/Rao2014-IMR90-MboI-allreps-filtered.500kb.cool')\n",
    "\n"
   ],
   "metadata": {
    "collapsed": false,
    "pycharm": {
     "name": "#%%\n"
    }
   }
  },
  {
   "cell_type": "markdown",
   "source": [
    "## Part 3\n",
    "*Условие*"
   ],
   "metadata": {
    "collapsed": false,
    "pycharm": {
     "name": "#%% md\n"
    }
   }
  },
  {
   "cell_type": "code",
   "execution_count": 141,
   "outputs": [],
   "source": [
    "from IPython.display import IFrame"
   ],
   "metadata": {
    "collapsed": false,
    "pycharm": {
     "name": "#%%\n"
    }
   }
  },
  {
   "cell_type": "code",
   "execution_count": 142,
   "outputs": [
    {
     "data": {
      "text/plain": "<IPython.lib.display.IFrame at 0x11154c9d0>",
      "text/html": "\n        <iframe\n            width=\"600\"\n            height=\"300\"\n            src=\"./problem/interview_hic_problem.pdf\"\n            frameborder=\"0\"\n            allowfullscreen\n        ></iframe>\n        "
     },
     "execution_count": 142,
     "metadata": {},
     "output_type": "execute_result"
    }
   ],
   "source": [
    "IFrame(\"./problem/interview_hic_problem.pdf\", width=600, height=300) # doesn't work (404, why?)\n"
   ],
   "metadata": {
    "collapsed": false,
    "pycharm": {
     "name": "#%%\n"
    }
   }
  },
  {
   "cell_type": "markdown",
   "source": [
    "### 3.1\n",
    "Параметризовать кривую из условия, запустить уравнение в виде (x(t), y(t))\n"
   ],
   "metadata": {
    "collapsed": false
   }
  },
  {
   "cell_type": "code",
   "execution_count": 143,
   "outputs": [],
   "source": [
    "import math\n",
    "import turtle"
   ],
   "metadata": {
    "collapsed": false,
    "pycharm": {
     "name": "#%%\n"
    }
   }
  },
  {
   "cell_type": "markdown",
   "source": [
    "Глобальные переменные из условия"
   ],
   "metadata": {
    "collapsed": false,
    "pycharm": {
     "name": "#%% md\n"
    }
   }
  },
  {
   "cell_type": "code",
   "execution_count": 144,
   "outputs": [],
   "source": [
    "_a = 2 / 1000  # distance between 2 rounds\n",
    "_k = _a / (2 * math.pi)  # from r = k * t\n",
    "_max_t = 32.6107895385266  # argmax L\n",
    "_max_length = 0.17\n",
    "_bins_cnt = 1000\n",
    "_clockwise = -1 # хотим по часовой"
   ],
   "metadata": {
    "collapsed": false,
    "pycharm": {
     "name": "#%%\n"
    }
   }
  },
  {
   "cell_type": "markdown",
   "source": [
    "Введем функции-помощники\n"
   ],
   "metadata": {
    "collapsed": false,
    "pycharm": {
     "name": "#%% md\n"
    }
   }
  },
  {
   "cell_type": "code",
   "execution_count": 145,
   "outputs": [],
   "source": [
    "def count_r(t):\n",
    "    return _k * t\n",
    "\n",
    "def count_length(t):\n",
    "    return (_k / 2) * ((t * math.sqrt(1 + t ** 2)) + math.log(t + math.sqrt(1 + t ** 2)))"
   ],
   "metadata": {
    "collapsed": false,
    "pycharm": {
     "name": "#%%\n"
    }
   }
  },
  {
   "cell_type": "markdown",
   "source": [
    "вывод:\n",
    "<img src=\"solutions/archimedean.jpg\">"
   ],
   "metadata": {
    "collapsed": false,
    "pycharm": {
     "name": "#%% md\n"
    }
   }
  },
  {
   "cell_type": "markdown",
   "source": [
    "Основные функции, with_bin_centers=True начнет рисовать красным центры бинов\n",
    "после рисования спирали\n",
    "*get_approximate_centers()* - возможно есть менее приближенное решение для t(L), что по заданному линейному\n",
    "расстоянию выдается подходящий t (угол) в архимедовой спирали, но фольфрам выдает мне только частное решение\n",
    "для заданного L (так я получил параметр _max_t)\n",
    "<img src=\"solutions/solution_max_t.png\">"
   ],
   "metadata": {
    "collapsed": false,
    "pycharm": {
     "name": "#%% md\n"
    }
   }
  },
  {
   "cell_type": "code",
   "execution_count": 146,
   "outputs": [],
   "source": [
    "def gen_spiral(with_bin_centers=False, scale=20000):\n",
    "    turtle.color('blue')\n",
    "    turtle.down()\n",
    "    accuracy = 10\n",
    "    for t in range(math.ceil(accuracy * _max_t)):\n",
    "        r = count_r(_clockwise * t / accuracy)\n",
    "        x = r * math.cos(_clockwise * t / accuracy)\n",
    "        y = r * math.sin(_clockwise * t / accuracy)\n",
    "        turtle.goto(scale * x, scale * y)\n",
    "    if with_bin_centers:\n",
    "        turtle.color('red')\n",
    "        turtle.penup()\n",
    "        bin_centers = map(lambda xy: (xy[0] * scale, xy[1] * scale), get_approximate_centers())\n",
    "        for center in bin_centers:\n",
    "            turtle.goto(center[0], center[1])\n",
    "            turtle.dot()\n",
    "    turtle.up()\n",
    "    turtle.done()\n",
    "\n",
    "def get_approximate_centers():\n",
    "    centers = []\n",
    "\n",
    "    length_step = _max_length / _bins_cnt\n",
    "    next_center_length = length_step / 2\n",
    "    accuracy = 100\n",
    "    pred_l = 0\n",
    "    pred_x = 0\n",
    "    pred_y = 0\n",
    "    step = 0\n",
    "    for t in range(math.ceil(accuracy * _max_t)):\n",
    "        if step == _bins_cnt:\n",
    "            break\n",
    "        cur_l = count_length(t / accuracy)\n",
    "        r = count_r(_clockwise * t / accuracy)\n",
    "        x = r * math.cos(_clockwise * t / accuracy)\n",
    "        y = r * math.sin(_clockwise * t / accuracy)\n",
    "        if pred_l <= next_center_length < cur_l:\n",
    "            centers.append((pred_x, pred_y))\n",
    "            next_center_length += length_step\n",
    "            step += 1\n",
    "        pred_l = cur_l\n",
    "        pred_x = x\n",
    "        pred_y = y\n",
    "    return centers\n",
    "\n",
    "gen_spiral()"
   ],
   "metadata": {
    "collapsed": false,
    "pycharm": {
     "name": "#%%\n"
    }
   }
  },
  {
   "cell_type": "markdown",
   "source": [
    "![SegmentLocal](solutions/gif_task3.gif)"
   ],
   "metadata": {
    "collapsed": false,
    "pycharm": {
     "name": "#%% md\n"
    }
   }
  },
  {
   "cell_type": "code",
   "execution_count": null,
   "outputs": [],
   "source": [
    "gen_spiral(with_bin_centers=True, scale=200000)"
   ],
   "metadata": {
    "collapsed": false,
    "pycharm": {
     "name": "#%%\n"
    }
   }
  },
  {
   "cell_type": "markdown",
   "source": [
    "<img src=\"solutions/bin_centers.jpg\">"
   ],
   "metadata": {
    "collapsed": false,
    "pycharm": {
     "name": "#%% md\n"
    }
   }
  },
  {
   "cell_type": "markdown",
   "source": [
    "### 3.2\n",
    "*Условие: Разбить хромосому на 1000 равных бинов по 500 Kb,\n",
    "и построить матрицу расстояний между центрами бинов*"
   ],
   "metadata": {
    "collapsed": false,
    "pycharm": {
     "name": "#%% md\n"
    }
   }
  },
  {
   "cell_type": "code",
   "execution_count": null,
   "outputs": [],
   "source": [
    "def dist(x1, y1, x2, y2):\n",
    "    return math.sqrt((x1 - x2) ** 2 + (y1 - y2) ** 2)\n",
    "\n",
    "def count_dist_matrix():\n",
    "    contact_matrix = np.array([[0.0 for _ in range(_bins_cnt)] for _ in range(_bins_cnt)])\n",
    "    centers = get_approximate_centers()\n",
    "    for i in range(_bins_cnt):\n",
    "        for j in range(i + 1, _bins_cnt):  # from i + 1 as i is already == 0\n",
    "            fst = centers[i]\n",
    "            snd = centers[j]\n",
    "            contact_matrix[i][j] = contact_matrix[j][i] = dist(fst[0], fst[1], snd[0], snd[1])\n",
    "    return contact_matrix\n",
    "\n",
    "plt.title('dist matrix')\n",
    "plt.imshow(count_dist_matrix(), cmap='hot', interpolation='nearest')\n",
    "plt.show()\n",
    "\n"
   ],
   "metadata": {
    "collapsed": false,
    "pycharm": {
     "name": "#%%\n"
    }
   }
  }
 ],
 "metadata": {
  "kernelspec": {
   "display_name": "Python 3",
   "language": "python",
   "name": "python3"
  },
  "language_info": {
   "codemirror_mode": {
    "name": "ipython",
    "version": 2
   },
   "file_extension": ".py",
   "mimetype": "text/x-python",
   "name": "python",
   "nbconvert_exporter": "python",
   "pygments_lexer": "ipython2",
   "version": "2.7.6"
  }
 },
 "nbformat": 4,
 "nbformat_minor": 0
}