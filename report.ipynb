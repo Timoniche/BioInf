{
 "cells": [
  {
   "cell_type": "markdown",
   "source": [
    "## Part 1\n",
    "\n",
    "*Условие:\n",
    "происходят рандомные перестановки P.\n",
    "Когда оптимальное количество свопов начинает различаться с |P|?*"
   ],
   "metadata": {
    "collapsed": false
   }
  },
  {
   "cell_type": "markdown",
   "source": [
    "Ниже приведен код, которые считает d - минимальное количество swap,\n",
    "чтобы вернуться в сортированное состояние"
   ],
   "metadata": {
    "collapsed": false,
    "pycharm": {
     "name": "#%% md\n"
    }
   }
  },
  {
   "cell_type": "code",
   "execution_count": null,
   "outputs": [],
   "source": [
    "def in_its_place(elem_indexed, i):\n",
    "    return elem_indexed == i\n",
    "\n",
    "def d_min_swap(permut):\n",
    "    sz = len(permut)\n",
    "    indexed_permut = [*enumerate(permut)]\n",
    "    indexed_permut = sorted(indexed_permut, key=lambda e: e[1])\n",
    "    visited = {b: False for b in range(sz)}\n",
    "    ret = 0\n",
    "    for i in range(sz):\n",
    "        if in_its_place(indexed_permut[i][0], i) or visited[i]:\n",
    "            continue\n",
    "        cycle_len = 0\n",
    "        traverse = i\n",
    "        while not visited[traverse]:\n",
    "            visited[traverse] = True\n",
    "            traverse = indexed_permut[traverse][0]\n",
    "            cycle_len += 1\n",
    "        if cycle_len > 0:\n",
    "            ret += cycle_len - 1\n",
    "    return ret\n",
    "\n",
    "print(d_min_swap([2, 4, 1, 5, 3]))"
   ],
   "metadata": {
    "collapsed": false,
    "pycharm": {
     "name": "#%%\n",
     "is_executing": true
    }
   }
  },
  {
   "cell_type": "markdown",
   "source": [
    "В качестве оценки беспорядка выступает инвариант количества циклов.\n",
    "В сортированном массиве длины n будет n циклов\n",
    "\n",
    "<img src=\"pictures/permut1.jpg\">\n",
    "<img src=\"pictures/permut2.jpg\">"
   ],
   "metadata": {
    "collapsed": false
   }
  },
  {
   "cell_type": "markdown",
   "source": [
    "При помощи алгоритма был получен график, где:\n",
    "\n",
    "**синий**: y = x, т.е было x рандомных свапов и точно хватит столько (оценка сверху), чтобы вернуться\n",
    "\n",
    "**красный**: f(x), пока не вывел теоретически зависимость, возможно стоит пологарифмировать данные\n",
    "\n",
    "**зеленый**: дельта между верхней оценкой (синий) и идеальным решением (красный)\n",
    "\n",
    "**черный**: количество циклов, инвариант\n",
    "\n",
    "<img src=\"plots/part1_all\">\n"
   ],
   "metadata": {
    "collapsed": false
   }
  },
  {
   "cell_type": "markdown",
   "source": [
    "## Part 2\n",
    "\n",
    "*Условие: изучить Cooler API на примере\n",
    "ftp://cooler.csail.mit.edu/coolers/hg19/Rao2014-IMR90-MboI-allreps-filtered.500kb.cool*"
   ],
   "metadata": {
    "collapsed": false,
    "pycharm": {
     "name": "#%% md\n"
    }
   }
  },
  {
   "cell_type": "markdown",
   "source": [
    "Для удобства выведем полезную информацию"
   ],
   "metadata": {
    "collapsed": false,
    "pycharm": {
     "name": "#%% md\n"
    }
   }
  },
  {
   "cell_type": "code",
   "execution_count": null,
   "outputs": [],
   "source": [
    "import cooler"
   ],
   "metadata": {
    "collapsed": false,
    "pycharm": {
     "name": "#%%\n",
     "is_executing": true
    }
   }
  },
  {
   "cell_type": "code",
   "execution_count": null,
   "outputs": [],
   "source": [
    "def helper(filepath):\n",
    "    c = cooler.Cooler(filepath)\n",
    "    print(f'c.info\\n{c.info}\\n')\n",
    "    bin_size = 500000 # from c.info\n",
    "    print(f'c.chromsizes\\n{c.chromsizes}\\n')\n",
    "    count_bins_chr1 = math.ceil(c.chromsizes[0] / bin_size)\n",
    "    print(f'bins in chr1:\\n{count_bins_chr1}\\n')\n",
    "\n",
    "helper(filepath='data/Rao2014-IMR90-MboI-allreps-filtered.500kb.cool')"
   ],
   "metadata": {
    "collapsed": false,
    "pycharm": {
     "name": "#%%\n",
     "is_executing": true
    }
   }
  },
  {
   "cell_type": "markdown",
   "source": [
    "Отдельно выводим информацию по chr1, так как в дальнейшем будем работать именно с ней.\n",
    "Также интересно посмотреть на hi-c распределение"
   ],
   "metadata": {
    "collapsed": false
   }
  },
  {
   "cell_type": "code",
   "execution_count": null,
   "outputs": [],
   "source": [
    "import numpy as np"
   ],
   "metadata": {
    "collapsed": false,
    "pycharm": {
     "name": "#%%\n",
     "is_executing": true
    }
   }
  },
  {
   "cell_type": "code",
   "execution_count": null,
   "outputs": [],
   "source": [
    "def heatmap_hic(filepath):\n",
    "    c = cooler.Cooler(filepath)\n",
    "    bin_size = 500000\n",
    "    count_bins_chr1 = math.ceil(c.chromsizes[0] / bin_size)\n",
    "    contact_matrix = np.array(c.matrix(balance=False)[:count_bins_chr1, :count_bins_chr1])\n",
    "    plt.title('hic')\n",
    "    plt.imshow(contact_matrix, cmap='hot', interpolation='nearest')\n",
    "    plt.show()\n",
    "\n",
    "heatmap_hic(filepath='data/Rao2014-IMR90-MboI-allreps-filtered.500kb.cool')"
   ],
   "metadata": {
    "collapsed": false,
    "pycharm": {
     "name": "#%%\n",
     "is_executing": true
    }
   }
  },
  {
   "cell_type": "markdown",
   "source": [
    "График получился не очень наглядным, потому что порядок k близких к главной диагонали в разы превышает все остальные случаи\n",
    "\n",
    "**N.B:** здесь и в дальнейшем под k подразумевается расстояние в бинах между i и i + k (в линейном представлении) участками"
   ],
   "metadata": {
    "collapsed": false
   }
  },
  {
   "cell_type": "markdown",
   "source": [
    "Для задачи 3 потребуется добыть из chr1 зависимости:\n",
    "\n",
    "**E(k):** матожидание количества попавших в каплю участков на расстоянии k\n",
    "\n",
    "* **N.B:** так как матрица очевидно симметричная (расстояние для [i][j] и [j][i] участков одинаковое), то будем рассматривать\n",
    "только все пары (i, i + k) над главной диагональю\n",
    "\n",
    "**D(k), SIGMA(k):** аналогичным образом извлекаются из верхней диагонали матрицы\n",
    "\n",
    "**Гистограмма**: понадобится при построении hi-c в части 3, чтобы не брать только E(k)\n"
   ],
   "metadata": {
    "collapsed": false,
    "pycharm": {
     "name": "#%% md\n"
    }
   }
  },
  {
   "cell_type": "markdown",
   "source": [
    "Итак, приступим к получению нужных параметров!!\n",
    "\n",
    "* код для построения графиков опущу, можно посмотреть здесь:\n",
    "https://github.com/Timoniche/BioInf/blob/main/main_cool_part2.py\n",
    "\n",
    "**E(k)**\n",
    "<img src=\"plots/chr1_EX_k_1_10\">\n",
    "\n",
    "можно заметить, что после k > 2 происходит резкий спад порядки,\n",
    "тогда в дальнейшем при построении графиков k = 1..10 можно будет опускать (или логарифмировать и смотреть за порядком)\n",
    "\n",
    "<img src=\"plots/chr1_EX_k_10_25\">\n",
    "\n",
    "**D(k)**\n",
    "<img src=\"plots/chr1_DX_k_1_10\">\n",
    "<img src=\"plots/chr1_DX_k_10_25\">\n",
    "\n",
    "**SIGMA(k)**\n",
    "<img src=\"plots/chr1_SIGMA_k_1_10\">\n",
    "<img src=\"plots/chr1_SIGMA_k_10_25\">\n",
    "\n",
    "**Гистограмма**"
   ],
   "metadata": {
    "collapsed": false
   }
  },
  {
   "cell_type": "code",
   "execution_count": null,
   "outputs": [],
   "source": [
    "from matplotlib import pyplot as plt"
   ],
   "metadata": {
    "collapsed": false,
    "pycharm": {
     "name": "#%%\n",
     "is_executing": true
    }
   }
  },
  {
   "cell_type": "code",
   "execution_count": null,
   "outputs": [],
   "source": [
    "def get_upper_k_diagonal(mat, k):\n",
    "    n = len(mat)\n",
    "    ret = []\n",
    "    i = 0\n",
    "    for j in range(k, n):\n",
    "        ret.append(mat[i][j])\n",
    "        i += 1\n",
    "        j += 1\n",
    "    return ret\n",
    "\n",
    "def histogramm(filepath, k=11):\n",
    "    c = cooler.Cooler(filepath)\n",
    "    bin_size = 500000\n",
    "    count_bins_chr1 = math.ceil(c.chromsizes[0] / bin_size)\n",
    "    contact_matrix = c.matrix(balance=False)[:count_bins_chr1, :count_bins_chr1]\n",
    "    diag = get_upper_k_diagonal(contact_matrix, k)\n",
    "    hist = np.histogram(np.array(diag))\n",
    "    plt.hist(hist)\n",
    "\n",
    "\n",
    "histogramm(filepath='data/Rao2014-IMR90-MboI-allreps-filtered.500kb.cool')\n",
    "\n"
   ],
   "metadata": {
    "collapsed": false,
    "pycharm": {
     "name": "#%%\n",
     "is_executing": true
    }
   }
  },
  {
   "cell_type": "markdown",
   "source": [
    "## Part 3\n",
    "*Условие*"
   ],
   "metadata": {
    "collapsed": false,
    "pycharm": {
     "name": "#%% md\n"
    }
   }
  },
  {
   "cell_type": "code",
   "execution_count": null,
   "outputs": [],
   "source": [
    "from IPython.display import IFrame"
   ],
   "metadata": {
    "collapsed": false,
    "pycharm": {
     "name": "#%%\n",
     "is_executing": true
    }
   }
  },
  {
   "cell_type": "code",
   "execution_count": null,
   "outputs": [],
   "source": [
    "IFrame(\"./problem/interview_hic_problem.pdf\", width=600, height=300) # doesn't work (404, why?)\n"
   ],
   "metadata": {
    "collapsed": false,
    "pycharm": {
     "name": "#%%\n",
     "is_executing": true
    }
   }
  },
  {
   "cell_type": "markdown",
   "source": [
    "### 3.1\n",
    "Параметризовать кривую из условия, запустить уравнение в виде (x(t), y(t))\n"
   ],
   "metadata": {
    "collapsed": false
   }
  },
  {
   "cell_type": "code",
   "execution_count": null,
   "outputs": [],
   "source": [
    "import math\n",
    "import turtle"
   ],
   "metadata": {
    "collapsed": false,
    "pycharm": {
     "name": "#%%\n",
     "is_executing": true
    }
   }
  },
  {
   "cell_type": "markdown",
   "source": [
    "Глобальные переменные из условия"
   ],
   "metadata": {
    "collapsed": false,
    "pycharm": {
     "name": "#%% md\n"
    }
   }
  },
  {
   "cell_type": "code",
   "execution_count": null,
   "outputs": [],
   "source": [
    "_a = 2 / 1000  # distance between 2 rounds\n",
    "_k = _a / (2 * math.pi)  # from r = k * t\n",
    "_max_t = 32.6107895385266  # argmax L\n",
    "_max_length = 0.17\n",
    "_bins_cnt = 1000\n",
    "_clockwise = -1 # хотим по часовой"
   ],
   "metadata": {
    "collapsed": false,
    "pycharm": {
     "name": "#%%\n",
     "is_executing": true
    }
   }
  },
  {
   "cell_type": "markdown",
   "source": [
    "Введем функции-помощники\n"
   ],
   "metadata": {
    "collapsed": false,
    "pycharm": {
     "name": "#%% md\n"
    }
   }
  },
  {
   "cell_type": "code",
   "execution_count": null,
   "outputs": [],
   "source": [
    "def count_r(t):\n",
    "    return _k * t\n",
    "\n",
    "def count_length(t):\n",
    "    return (_k / 2) * ((t * math.sqrt(1 + t ** 2)) + math.log(t + math.sqrt(1 + t ** 2)))"
   ],
   "metadata": {
    "collapsed": false,
    "pycharm": {
     "name": "#%%\n",
     "is_executing": true
    }
   }
  },
  {
   "cell_type": "markdown",
   "source": [
    "вывод:\n",
    "<img src=\"solutions/archimedean.jpg\">"
   ],
   "metadata": {
    "collapsed": false,
    "pycharm": {
     "name": "#%% md\n"
    }
   }
  },
  {
   "cell_type": "markdown",
   "source": [
    "Основные функции, with_bin_centers=True начнет рисовать красным центры бинов\n",
    "после рисования спирали\n",
    "*get_approximate_centers()* - возможно есть менее приближенное решение для t(L), что по заданному линейному\n",
    "расстоянию выдается подходящий t (угол) в архимедовой спирали, но фольфрам выдает мне только частное решение\n",
    "для заданного L (так я получил параметр _max_t)\n",
    "<img src=\"solutions/solution_max_t.png\">"
   ],
   "metadata": {
    "collapsed": false,
    "pycharm": {
     "name": "#%% md\n"
    }
   }
  },
  {
   "cell_type": "code",
   "execution_count": null,
   "outputs": [],
   "source": [
    "def gen_spiral(with_bin_centers=False, scale=20000):\n",
    "    turtle.color('blue')\n",
    "    turtle.down()\n",
    "    accuracy = 10\n",
    "    for t in range(math.ceil(accuracy * _max_t)):\n",
    "        r = count_r(_clockwise * t / accuracy)\n",
    "        x = r * math.cos(_clockwise * t / accuracy)\n",
    "        y = r * math.sin(_clockwise * t / accuracy)\n",
    "        turtle.goto(scale * x, scale * y)\n",
    "    if with_bin_centers:\n",
    "        turtle.color('red')\n",
    "        turtle.penup()\n",
    "        bin_centers = map(lambda xy: (xy[0] * scale, xy[1] * scale), get_approximate_centers())\n",
    "        for center in bin_centers:\n",
    "            turtle.goto(center[0], center[1])\n",
    "            turtle.dot()\n",
    "    turtle.up()\n",
    "    turtle.done()\n",
    "\n",
    "def get_approximate_centers():\n",
    "    centers = []\n",
    "\n",
    "    length_step = _max_length / _bins_cnt\n",
    "    next_center_length = length_step / 2\n",
    "    accuracy = 100\n",
    "    pred_l = 0\n",
    "    pred_x = 0\n",
    "    pred_y = 0\n",
    "    step = 0\n",
    "    for t in range(math.ceil(accuracy * _max_t)):\n",
    "        if step == _bins_cnt:\n",
    "            break\n",
    "        cur_l = count_length(t / accuracy)\n",
    "        r = count_r(_clockwise * t / accuracy)\n",
    "        x = r * math.cos(_clockwise * t / accuracy)\n",
    "        y = r * math.sin(_clockwise * t / accuracy)\n",
    "        if pred_l <= next_center_length < cur_l:\n",
    "            centers.append((pred_x, pred_y))\n",
    "            next_center_length += length_step\n",
    "            step += 1\n",
    "        pred_l = cur_l\n",
    "        pred_x = x\n",
    "        pred_y = y\n",
    "    return centers\n",
    "\n",
    "gen_spiral()"
   ],
   "metadata": {
    "collapsed": false,
    "pycharm": {
     "name": "#%%\n",
     "is_executing": true
    }
   }
  },
  {
   "cell_type": "markdown",
   "source": [
    "![SegmentLocal](solutions/gif_task3.gif)"
   ],
   "metadata": {
    "collapsed": false,
    "pycharm": {
     "name": "#%% md\n"
    }
   }
  },
  {
   "cell_type": "code",
   "execution_count": null,
   "outputs": [],
   "source": [
    "gen_spiral(with_bin_centers=True, scale=200000)"
   ],
   "metadata": {
    "collapsed": false,
    "pycharm": {
     "name": "#%%\n",
     "is_executing": true
    }
   }
  },
  {
   "cell_type": "markdown",
   "source": [
    "<img src=\"solutions/bin_centers.jpg\">"
   ],
   "metadata": {
    "collapsed": false,
    "pycharm": {
     "name": "#%% md\n"
    }
   }
  },
  {
   "cell_type": "markdown",
   "source": [
    "### 3.2\n",
    "*Условие: Разбить хромосому на 1000 равных бинов по 500 Kb,\n",
    "и построить матрицу расстояний между центрами бинов*"
   ],
   "metadata": {
    "collapsed": false,
    "pycharm": {
     "name": "#%% md\n"
    }
   }
  },
  {
   "cell_type": "code",
   "execution_count": null,
   "outputs": [],
   "source": [
    "def dist(x1, y1, x2, y2):\n",
    "    return math.sqrt((x1 - x2) ** 2 + (y1 - y2) ** 2)\n",
    "\n",
    "def count_dist_matrix():\n",
    "    contact_matrix = np.array([[0.0 for _ in range(_bins_cnt)] for _ in range(_bins_cnt)])\n",
    "    centers = get_approximate_centers()\n",
    "    for i in range(_bins_cnt):\n",
    "        for j in range(i + 1, _bins_cnt):  # from i + 1 as i is already == 0\n",
    "            fst = centers[i]\n",
    "            snd = centers[j]\n",
    "            contact_matrix[i][j] = contact_matrix[j][i] = dist(fst[0], fst[1], snd[0], snd[1])\n",
    "    return contact_matrix\n",
    "\n",
    "plt.title('dist matrix')\n",
    "plt.imshow(count_dist_matrix(), cmap='hot', interpolation='nearest')\n",
    "plt.show()\n",
    "\n"
   ],
   "metadata": {
    "collapsed": false,
    "pycharm": {
     "name": "#%%\n",
     "is_executing": true
    }
   }
  },
  {
   "cell_type": "markdown",
   "source": [
    "### 3.3\n",
    "*Условие:\n",
    "Пользуясь данными по первой хромосоме человека (250 Mb, 85 мм) из\n",
    "ftp://cooler.csail.mit.edu/coolers/hg19/Rao2014-IMR90-MboI-allreps-filtered.500kb.cool сгенерируйте матрицу Hi-C для данной хромосомы.\n",
    "Предлагается считать, что среднее покрытие такое же, как в предлагаемых\n",
    "данных; для простоты можно считать, что все предлагаемые данные\n",
    "линейные (то есть, что в тренировочных данных два бина на расстоянии N бинов друг от друга вдоль хромосомы имеют расстояние в 3D пропорциональное N).*"
   ],
   "metadata": {
    "collapsed": false
   }
  },
  {
   "cell_type": "markdown",
   "source": [
    "Убедимся,что параметры с частью 2 совпадают\n",
    "* Если быть точным из инфо по chr1 250Mb -> 249250621,\n",
    "\n",
    "1 бин занимает: meters=(85 / 1000) / count_bins_chr1=499"
   ],
   "metadata": {
    "collapsed": false,
    "pycharm": {
     "name": "#%% md\n"
    }
   }
  },
  {
   "cell_type": "code",
   "execution_count": null,
   "outputs": [],
   "source": [
    "def print_info(filepath):\n",
    "    c = cooler.Cooler(filepath)\n",
    "    meters = 85 / 1000\n",
    "    bin_size = 500000\n",
    "    count_bins_chr1 = math.ceil(c.chromsizes[0] / bin_size)\n",
    "    print(meters / count_bins_chr1)\n",
    "\n",
    "print_info(filepath='data/Rao2014-IMR90-MboI-allreps-filtered.500kb.cool')"
   ],
   "metadata": {
    "collapsed": false,
    "pycharm": {
     "name": "#%%\n",
     "is_executing": true
    }
   }
  },
  {
   "cell_type": "markdown",
   "source": [
    "0.00017034068136272546мм это 0.17мм\n",
    "Так как в условии сказано, что всю длину поделили на 1000 бинов,\n",
    "то суммарная длина должна быть равна 170мм, что и сказано в условии\n",
    "\n",
    "Ч.т.д"
   ],
   "metadata": {
    "collapsed": false,
    "pycharm": {
     "name": "#%% md\n"
    }
   }
  },
  {
   "cell_type": "markdown",
   "source": [
    "В условии заданы все параметры кривой, и мы знаем расстояние между любой парой бинов.\n",
    "Неплохо было бы перевести это расстояние в бин-расстояние"
   ],
   "metadata": {
    "collapsed": false,
    "pycharm": {
     "name": "#%% md\n"
    }
   }
  },
  {
   "cell_type": "code",
   "execution_count": null,
   "outputs": [],
   "source": [
    "def meters_to_bin(dist_meters):\n",
    "    bin_meter = (85 / 1000) / 499 # возьмем точнее, чем 0.17мм из условия\n",
    "    return round(dist_meters / bin_meter)"
   ],
   "metadata": {
    "collapsed": false,
    "pycharm": {
     "name": "#%%\n",
     "is_executing": true
    }
   }
  },
  {
   "cell_type": "markdown",
   "source": [
    "Научимся извлекать массив матожиданий из части 2"
   ],
   "metadata": {
    "collapsed": false,
    "pycharm": {
     "name": "#%% md\n"
    }
   }
  },
  {
   "cell_type": "code",
   "execution_count": null,
   "outputs": [],
   "source": [
    "def get_ev_k(filepath, range_k):\n",
    "    c = cooler.Cooler(filepath)\n",
    "    step_bin = 500000\n",
    "    count_bins_chr1 = math.ceil(c.chromsizes[0] / step_bin)\n",
    "    contact_matrix = c.matrix(balance=False)[:count_bins_chr1, :count_bins_chr1]\n",
    "    ev_k = []\n",
    "    for k in range_k:\n",
    "        ev_k.append(process_cool(contact_matrix, k))\n",
    "    return ev_k\n",
    "\n",
    "def process_cool(contact_matrix, k):\n",
    "    assert len(contact_matrix) > k, \"k should be in [ 0 ; len(matrix) )\"\n",
    "    expec = expected_avg_on_k(contact_matrix, k)\n",
    "    return expec\n",
    "\n",
    "def expected_avg_on_k(mat, k):\n",
    "    upper = get_upper_k_diagonal(mat, k)\n",
    "    return count_ev(upper)\n",
    "\n",
    "def count_ev(arr):\n",
    "    cnt = len(arr)\n",
    "    return sum(arr) / cnt"
   ],
   "metadata": {
    "collapsed": false,
    "pycharm": {
     "name": "#%%\n",
     "is_executing": true
    }
   }
  },
  {
   "cell_type": "markdown",
   "source": [
    "Сначала попробуем построить hi-c только на основе матожиданий"
   ],
   "metadata": {
    "collapsed": false
   }
  },
  {
   "cell_type": "markdown",
   "source": [
    "*Попытка-1:*"
   ],
   "metadata": {
    "collapsed": false
   }
  },
  {
   "cell_type": "code",
   "source": [
    "def gen_hic(dist_matrix):\n",
    "    bins_cnt = 1000\n",
    "    ev_k = get_ev_k(filepath='data/Rao2014-IMR90-MboI-allreps-filtered.500kb.cool', range_k=range(499))\n",
    "    _hic = np.array([[0.0 for _ in range(bins_cnt)] for _ in range(bins_cnt)])\n",
    "    for i in range(bins_cnt):\n",
    "        for j in range(bins_cnt):\n",
    "            dist_meters = dist_matrix[i][j]\n",
    "            dist_k = meters_to_bin(dist_meters)\n",
    "            if 0 < dist_k <= 498:\n",
    "                _hic[i][j] = _hic[j][i] = ev_k[dist_k]\n",
    "    return _hic\n",
    "\n",
    "hic = gen_hic(count_dist_matrix())\n",
    "plt.title('hic')\n",
    "plt.imshow(hic, cmap='hot', interpolation='nearest')\n",
    "plt.show()\n",
    "\n",
    "\n"
   ],
   "metadata": {
    "collapsed": false,
    "pycharm": {
     "name": "#%%\n",
     "is_executing": true
    }
   },
   "execution_count": null,
   "outputs": []
  }
 ],
 "metadata": {
  "kernelspec": {
   "display_name": "Python 3",
   "language": "python",
   "name": "python3"
  },
  "language_info": {
   "codemirror_mode": {
    "name": "ipython",
    "version": 2
   },
   "file_extension": ".py",
   "mimetype": "text/x-python",
   "name": "python",
   "nbconvert_exporter": "python",
   "pygments_lexer": "ipython2",
   "version": "2.7.6"
  }
 },
 "nbformat": 4,
 "nbformat_minor": 0
}